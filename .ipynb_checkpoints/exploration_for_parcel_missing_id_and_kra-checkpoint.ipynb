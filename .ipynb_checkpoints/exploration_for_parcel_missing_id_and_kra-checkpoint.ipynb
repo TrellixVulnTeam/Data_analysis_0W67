{
 "cells": [
  {
   "cell_type": "markdown",
   "metadata": {},
   "source": [
    "# Objective\n",
    "This analysis involves checking parcel with no id number and kra pin.The approach for analysis will be using a key called not approved under column owner identification type and also checking null in the column."
   ]
  },
  {
   "cell_type": "markdown",
   "metadata": {},
   "source": [
    "# LIBRARIES TO IMPORT\n",
    "* 1.Pandas\n",
    "* 2.Pyscopg2\n",
    "* 3.Regex"
   ]
  },
  {
   "cell_type": "code",
   "execution_count": 81,
   "metadata": {},
   "outputs": [],
   "source": [
    "# import pandas\n",
    "import pandas as pd\n",
    "# import pyscopg2\n",
    "import psycopg2 as pg\n",
    "# import regex\n",
    "import re\n",
    "import json"
   ]
  },
  {
   "cell_type": "markdown",
   "metadata": {
    "pycharm": {
     "name": "#%% md\n"
    }
   },
   "source": [
    "# STEP 1:DATABASE CONNECTION"
   ]
  },
  {
   "cell_type": "code",
   "execution_count": null,
   "metadata": {
    "pycharm": {
     "name": "#%%\n"
    }
   },
   "outputs": [],
   "source": [
    "myconnection = pg.connect(\" host= '192.168.214.105' dbname=molpp_v2_30_10 user=wainaina password='1234'\")"
   ]
  },
  {
   "cell_type": "markdown",
   "metadata": {},
   "source": [
    "# STEP 2:IMPORT DATA"
   ]
  },
  {
   "cell_type": "code",
   "execution_count": null,
   "metadata": {
    "pycharm": {
     "name": "#%%\n"
    }
   },
   "outputs": [],
   "source": [
    "def data_count(block_list):\n",
    "    dic={}\n",
    "    for i in block_list:\n",
    "        query=(f'''\n",
    "    SELECT count(*) AS \"count\"\n",
    "    FROM \"main\".\"land_data_cleaning_datacleaningfile\"\n",
    "    LEFT JOIN \"land_data_cleaning_department\".\"parcel_information\" \"Parcel Information\" ON \"main\".\"land_data_cleaning_datacleaningfile\".\"id\" = \"Parcel Information\".\"data_cleaning_file_id\" LEFT JOIN \"land_data_cleaning_department\".\"parcel_owners\" \"Parcel Owners\" ON \"Parcel Information\".\"id\" = \"Parcel Owners\".\"land_parcel_id\"\n",
    "    WHERE ((lower(\"main\".\"land_data_cleaning_datacleaningfile\".\"file_number\") like  '%{i}%' )\n",
    "       AND \"Parcel Owners\".\"owner_identification_type\" = 'NOT_AVAILABLE');''')\n",
    "\n",
    "        data_count=pd.read_sql(query,myconnection)\n",
    "        # print with no indexes\n",
    "    #     data_count_no=data_count.to_string(index=False)\n",
    "        dic[i]=str(data_count.values[0][0])\n",
    "       \n",
    "    return dic"
   ]
  },
  {
   "cell_type": "code",
   "execution_count": null,
   "metadata": {
    "pycharm": {
     "name": "#%%\n"
    }
   },
   "outputs": [],
   "source": [
    "block_list = ['nairobi/block 98','nairobi/block 82','nairobi/block 32','nairobi/block 96']\n",
    "data_count(block_list)\n",
    "\n",
    "with open(\"count.json\",\"w\") as outfile:\n",
    "          json.dump(data_count(block_list),outfile)\n"
   ]
  },
  {
   "cell_type": "markdown",
   "metadata": {},
   "source": [
    "# Creating object from Daframe "
   ]
  },
  {
   "cell_type": "code",
   "execution_count": null,
   "metadata": {
    "pycharm": {
     "name": "#%%\n"
    }
   },
   "outputs": [],
   "source": [
    "# converting to dictionary\n",
    "dataframe=data_count.to_dict();\n",
    "print(dataframe)"
   ]
  },
  {
   "cell_type": "markdown",
   "metadata": {},
   "source": [
    "# STEP 2:IMPORT DATA"
   ]
  },
  {
   "cell_type": "code",
   "execution_count": 123,
   "metadata": {},
   "outputs": [],
   "source": [
    "def data_count(block_list):\n",
    "    dic={}\n",
    "    for i in block_list:\n",
    "        if isinstance(i, (int)):\n",
    "            block_number=f\"NAIROBI/BLOCK {i}\"\n",
    "        else:\n",
    "            block_number = i\n",
    "        query=(f'''\n",
    "    SELECT count(*) AS \"count\"\n",
    "    FROM \"main\".\"land_data_cleaning_datacleaningfile\"\n",
    "    LEFT JOIN \"land_data_cleaning_department\".\"parcel_information\" \"Parcel Information\" ON \"main\".\"land_data_cleaning_datacleaningfile\".\"id\" = \"Parcel Information\".\"data_cleaning_file_id\" LEFT JOIN \"land_data_cleaning_department\".\"parcel_owners\" \"Parcel Owners\" ON \"Parcel Information\".\"id\" = \"Parcel Owners\".\"land_parcel_id\"\n",
    "    WHERE ((lower(\"main\".\"land_data_cleaning_datacleaningfile\".\"file_number\") like  '%{block_number}%' )\n",
    "       AND \"Parcel Owners\".\"owner_identification_type\" = 'NOT_AVAILABLE');''')\n",
    "\n",
    "        data_count=pd.read_sql(query,myconnection)\n",
    "        # print with no indexes\n",
    "    #     data_count_no=data_count.to_string(index=False)\n",
    "        dic[i]=int(data_count.values[0][0])\n",
    "       \n",
    "    return dic"
   ]
  },
  {
   "cell_type": "code",
   "execution_count": 102,
   "metadata": {},
   "outputs": [],
   "source": [
    "block_list = ['nairobi/block 98','nairobi/block 82','nairobi/block 32','nairobi/block 96']\n",
    "data_count(block_list)\n",
    "\n",
    "with open(\"count.json\",\"w\") as outfile:\n",
    "          json.dump(data_count(block_list),outfile)\n"
   ]
  },
  {
   "cell_type": "markdown",
   "metadata": {},
   "source": [
    "# Creating object from Daframe "
   ]
  },
  {
   "cell_type": "code",
   "execution_count": 53,
   "metadata": {},
   "outputs": [
    {
     "name": "stdout",
     "output_type": "stream",
     "text": [
      "{'count': {0: 1966}}\n"
     ]
    }
   ],
   "source": [
    "# converting to dictionary\n",
    "dataframe=data_count.to_dict();\n",
    "print(dataframe)"
   ]
  },
  {
   "cell_type": "code",
   "execution_count": 124,
   "metadata": {},
   "outputs": [
    {
     "data": {
      "text/plain": [
       "{5: 0,\n",
       " 7: 0,\n",
       " 34: 0,\n",
       " 42: 0,\n",
       " 14: 0,\n",
       " 15: 0,\n",
       " 35: 0,\n",
       " 51: 0,\n",
       " 22: 0,\n",
       " 23: 0,\n",
       " 26: 0,\n",
       " 37: 0,\n",
       " 27: 0,\n",
       " 31: 0,\n",
       " 32: 0,\n",
       " 38: 0,\n",
       " 55: 0,\n",
       " 60: 0,\n",
       " 61: 0,\n",
       " 62: 0,\n",
       " 63: 0,\n",
       " 72: 0,\n",
       " 73: 0,\n",
       " 74: 0,\n",
       " 76: 0,\n",
       " 77: 0,\n",
       " 78: 0,\n",
       " 79: 0,\n",
       " 82: 0,\n",
       " 83: 0,\n",
       " 85: 0,\n",
       " 87: 0,\n",
       " 90: 0,\n",
       " 91: 0,\n",
       " 92: 0,\n",
       " 93: 0,\n",
       " 94: 0,\n",
       " 96: 0,\n",
       " 98: 0,\n",
       " 99: 0,\n",
       " 101: 0,\n",
       " 102: 0,\n",
       " 103: 0,\n",
       " 104: 0,\n",
       " 106: 0,\n",
       " 108: 0,\n",
       " 111: 0,\n",
       " 112: 0,\n",
       " 113: 0,\n",
       " 114: 0,\n",
       " 115: 0,\n",
       " 116: 0,\n",
       " 117: 0,\n",
       " 118: 0,\n",
       " 119: 0,\n",
       " 120: 0,\n",
       " 121: 0,\n",
       " 122: 0,\n",
       " 123: 0,\n",
       " 124: 0,\n",
       " 125: 0,\n",
       " 126: 0,\n",
       " 127: 0,\n",
       " 133: 0,\n",
       " 134: 0,\n",
       " 135: 0,\n",
       " 138: 0,\n",
       " 139: 0,\n",
       " 140: 0,\n",
       " 141: 0,\n",
       " 144: 0,\n",
       " 145: 0,\n",
       " 146: 0,\n",
       " 147: 0,\n",
       " 150: 0,\n",
       " 151: 0,\n",
       " 152: 0,\n",
       " 153: 0,\n",
       " 154: 0,\n",
       " 155: 0,\n",
       " 158: 0,\n",
       " 162: 0,\n",
       " 164: 0,\n",
       " 166: 0,\n",
       " 170: 0,\n",
       " 171: 0}"
      ]
     },
     "execution_count": 124,
     "metadata": {},
     "output_type": "execute_result"
    }
   ],
   "source": [
    "# Read block list\n",
    "query=(\"SELECT * from analytics.block_number\")\n",
    "block=pd.read_sql(query,myconnection)\n",
    "parcelist=block['Block Number'].to_list()\n",
    "data_count(parcelist)\n"
   ]
  }
 ],
 "metadata": {
  "kernelspec": {
   "display_name": "Python 3",
   "language": "python",
   "name": "python3"
  },
  "language_info": {
   "codemirror_mode": {
    "name": "ipython",
    "version": 3
   },
   "file_extension": ".py",
   "mimetype": "text/x-python",
   "name": "python",
   "nbconvert_exporter": "python",
   "pygments_lexer": "ipython3",
   "version": "3.8.5"
  }
 },
 "nbformat": 4,
 "nbformat_minor": 4
}
