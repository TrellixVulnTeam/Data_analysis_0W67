{
 "cells": [
  {
   "cell_type": "markdown",
   "metadata": {},
   "source": [
    "# Objective\n",
    "Analysing the below:\n",
    "\n",
    " * a. What is in routing and in basemap\n",
    " \n",
    " * b.What is in routing and not in basemap\n",
    " \n",
    " * c.What is in basemap and in routing\n",
    " \n",
    " * d.What is in basemap and not in routing\n"
   ]
  },
  {
   "cell_type": "markdown",
   "metadata": {},
   "source": [
    "# import libraries"
   ]
  },
  {
   "cell_type": "code",
   "execution_count": 4,
   "metadata": {},
   "outputs": [],
   "source": [
    "#import pandas\n",
    "import pandas as pd\n",
    "# import psycopg2\n",
    "import psycopg2 as pg"
   ]
  },
  {
   "cell_type": "markdown",
   "metadata": {},
   "source": [
    "# Database connection"
   ]
  },
  {
   "cell_type": "code",
   "execution_count": 5,
   "metadata": {
    "pycharm": {
     "is_executing": true
    }
   },
   "outputs": [],
   "source": [
    "myconnection = pg.connect(\" host= '192.168.214.252' dbname=molpp_v2_09_11 user=wainaina password='1234'\")"
   ]
  },
  {
   "cell_type": "markdown",
   "metadata": {},
   "source": [
    "# Function for creating the object"
   ]
  },
  {
   "cell_type": "code",
   "execution_count": 6,
   "metadata": {
    "pycharm": {
     "is_executing": true
    }
   },
   "outputs": [],
   "source": [
    "# query for data\n",
    "query=query=('''SELECT \"basemap\".\"nairobi_block_112_basemap\".\"id\" AS \"id\", \"basemap\".\"nairobi_block_112_basemap\".\"plot_num2\" AS \"plot_num2\", \"Routing 112 V1\".\"survey_parcel_no\" AS \"survey_parcel_no\", \"Routing 112 V1\".\"survey_status\" AS \"survey_status\"\n",
    "FROM \"basemap\".\"nairobi_block_112_basemap\" FULL JOIN \"routing_schema\".\"routing_112_v1\" \"Routing 112 V1\" ON \"basemap\".\"nairobi_block_112_basemap\".\"plot_num2\" = \"Routing 112 V1\".\"survey_parcel_no\"''')\n",
    "# routing list\n",
    "routing_list=[]\n",
    "# read data\n",
    "data=pd.read_sql(query,myconnection)\n",
    "# data frame for survey parcel no in routing\n",
    "routingparcels=data['survey_parcel_no']\n",
    "# list for routing survey parcels\n",
    "routingparcelslist=routingparcels.to_list()\n",
    "#print(routingparcelslist)\n",
    "# survey parcels data frame\n",
    "surveyparcels=data['plot_num2']\n",
    "# lists for what is in survey basemap\n",
    "surveyparcelslist=surveyparcels.to_list()\n",
    "#print(surveyparcels)\n",
    "# print (data)\n",
    "\n",
    "# list comparisons"
   ]
  },
  {
   "cell_type": "code",
   "execution_count": null,
   "metadata": {
    "pycharm": {
     "is_executing": true
    }
   },
   "outputs": [],
   "source": []
  }
 ],
 "metadata": {
  "kernelspec": {
   "display_name": "Python 3",
   "language": "python",
   "name": "python3"
  },
  "language_info": {
   "codemirror_mode": {
    "name": "ipython",
    "version": 3
   },
   "file_extension": ".py",
   "mimetype": "text/x-python",
   "name": "python",
   "nbconvert_exporter": "python",
   "pygments_lexer": "ipython3",
   "version": "3.8.5"
  }
 },
 "nbformat": 4,
 "nbformat_minor": 4
}
