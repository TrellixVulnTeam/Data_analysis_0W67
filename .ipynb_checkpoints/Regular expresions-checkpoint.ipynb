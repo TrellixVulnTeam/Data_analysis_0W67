{
 "cells": [
  {
   "cell_type": "markdown",
   "metadata": {},
   "source": [
    "**Regular expressions help with recognizing,detecting and extracting patterns in text data**"
   ]
  },
  {
   "cell_type": "markdown",
   "metadata": {},
   "source": [
    "# Extract Information Using Regular expressions(REGEX)\n",
    "\n",
    "**r** expression is used to create a raw string.Python raw string treats backslash (\\) as a literal character."
   ]
  },
  {
   "cell_type": "code",
   "execution_count": 1,
   "metadata": {},
   "outputs": [
    {
     "name": "stdout",
     "output_type": "stream",
     "text": [
      "string: C:\\desktop\n",
      "athan\n"
     ]
    }
   ],
   "source": [
    "# normal string vs raw string\n",
    "path=\"C:\\desktop\\nathan\"\n",
    "print(\"string:\", path)"
   ]
  },
  {
   "cell_type": "code",
   "execution_count": 2,
   "metadata": {},
   "outputs": [
    {
     "name": "stdout",
     "output_type": "stream",
     "text": [
      "raw string: C:\\desktop\\nathan\n"
     ]
    }
   ],
   "source": [
    "path=r\"C:\\desktop\\nathan\" #raw string\n",
    "print(\"raw string:\", path)"
   ]
  },
  {
   "cell_type": "markdown",
   "metadata": {},
   "source": [
    "Python  has a built in module to work with regular expressions called re.Some of the commonly used methods from \n",
    "\n",
    "**re** module are:\n",
    "\n",
    "     1.re.match()\n",
    "     \n",
    "     2.re.search()\n",
    "     \n",
    "     3.re.findall()"
   ]
  },
  {
   "cell_type": "markdown",
   "metadata": {},
   "source": [
    "**1.re.match()**\n",
    "\n",
    "The re.match functions returns a match object on success and none on failure\n"
   ]
  },
  {
   "cell_type": "code",
   "execution_count": 9,
   "metadata": {},
   "outputs": [
    {
     "name": "stdout",
     "output_type": "stream",
     "text": [
      "<re.Match object; span=(0, 9), match='Analytics'>\n",
      "None\n"
     ]
    }
   ],
   "source": [
    "import re\n",
    "# match a word at the beginning of a string\n",
    "\n",
    "result=re.match('Analytics', r'Analytics Vidhya is the largest')\n",
    "print(result)\n",
    "\n",
    "result2=re.match('largest', r'Analytics Vidhya is the largest community')\n",
    "print(result2)"
   ]
  },
  {
   "cell_type": "markdown",
   "metadata": {},
   "source": [
    "since output of the re.match is an object we will use group() function to get matched expression"
   ]
  },
  {
   "cell_type": "code",
   "execution_count": 10,
   "metadata": {},
   "outputs": [
    {
     "name": "stdout",
     "output_type": "stream",
     "text": [
      "Analytics\n"
     ]
    }
   ],
   "source": [
    "print(result.group())"
   ]
  },
  {
   "cell_type": "markdown",
   "metadata": {},
   "source": [
    "**2.re.search()**\n",
    "\n",
    "Matches the single occurence of a pattern in the entire string"
   ]
  },
  {
   "cell_type": "code",
   "execution_count": 12,
   "metadata": {},
   "outputs": [
    {
     "name": "stdout",
     "output_type": "stream",
     "text": [
      "founded\n"
     ]
    }
   ],
   "source": [
    "\n",
    "# search for the pattern \"founded\" in a given string\n",
    "result= re.search('founded',r'Andred NG founded Cousera.He also founded deeplearning.ai')\n",
    "print(result.group())"
   ]
  },
  {
   "cell_type": "markdown",
   "metadata": {},
   "source": [
    "**3.re.search()**\n",
    "\n",
    "it return all occurences of the pattern from the string.It is recommended to use re.findall() always,it can work like both re.search() and re.match()"
   ]
  },
  {
   "cell_type": "code",
   "execution_count": 14,
   "metadata": {},
   "outputs": [
    {
     "name": "stdout",
     "output_type": "stream",
     "text": [
      "['founded', 'founded']\n"
     ]
    }
   ],
   "source": [
    "result=re.findall('founded',r'Andred NG founded Cousera.He also founded deeplearning.ai')\n",
    "print(result)"
   ]
  },
  {
   "cell_type": "markdown",
   "metadata": {},
   "source": [
    "# Special sequences"
   ]
  },
  {
   "cell_type": "markdown",
   "metadata": {},
   "source": [
    "These are used to extract different kinds of information from a given text"
   ]
  },
  {
   "cell_type": "markdown",
   "metadata": {},
   "source": [
    "1. **\\b** returns a match where the specified pattern is at end of a word"
   ]
  },
  {
   "cell_type": "code",
   "execution_count": null,
   "metadata": {},
   "outputs": [],
   "source": []
  }
 ],
 "metadata": {
  "kernelspec": {
   "display_name": "Python 3",
   "language": "python",
   "name": "python3"
  },
  "language_info": {
   "codemirror_mode": {
    "name": "ipython",
    "version": 3
   },
   "file_extension": ".py",
   "mimetype": "text/x-python",
   "name": "python",
   "nbconvert_exporter": "python",
   "pygments_lexer": "ipython3",
   "version": "3.8.5"
  }
 },
 "nbformat": 4,
 "nbformat_minor": 4
}
