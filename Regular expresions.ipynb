{
 "cells": [
  {
   "cell_type": "markdown",
   "metadata": {},
   "source": [
    "**Regular expressions help with recognizing,detecting and extracting patterns in text data**"
   ]
  },
  {
   "cell_type": "markdown",
   "metadata": {},
   "source": [
    "# Extract Information Using Regular expressions(REGEX)\n",
    "\n",
    "**r** expression is used to create a raw string.Python raw string treats backslash (\\) as a literal character."
   ]
  },
  {
   "cell_type": "code",
   "execution_count": 1,
   "metadata": {},
   "outputs": [
    {
     "name": "stdout",
     "output_type": "stream",
     "text": [
      "string: C:\\desktop\n",
      "athan\n"
     ]
    }
   ],
   "source": [
    "# normal string vs raw string\n",
    "path=\"C:\\desktop\\nathan\"\n",
    "print(\"string:\", path)"
   ]
  },
  {
   "cell_type": "code",
   "execution_count": 2,
   "metadata": {},
   "outputs": [
    {
     "name": "stdout",
     "output_type": "stream",
     "text": [
      "raw string: C:\\desktop\\nathan\n"
     ]
    }
   ],
   "source": [
    "path=r\"C:\\desktop\\nathan\" #raw string\n",
    "print(\"raw string:\", path)"
   ]
  },
  {
   "cell_type": "markdown",
   "metadata": {},
   "source": [
    "Python  has a built in module to work with regular expressions called re.Some of the commonly used methods from \n",
    "\n",
    "**re** module are:\n",
    "\n",
    "     1.re.match()\n",
    "     \n",
    "     2.re.search()\n",
    "     \n",
    "     3.re.findall()"
   ]
  },
  {
   "cell_type": "markdown",
   "metadata": {},
   "source": [
    "**1.re.match()**\n",
    "\n",
    "The re.match functions returns a match object on success and none on failure\n"
   ]
  },
  {
   "cell_type": "code",
   "execution_count": 4,
   "metadata": {},
   "outputs": [
    {
     "name": "stdout",
     "output_type": "stream",
     "text": [
      "<re.Match object; span=(0, 9), match='Analytics'>\n",
      "None\n"
     ]
    }
   ],
   "source": [
    "import re\n",
    "# match a word at the beginning of a string\n",
    "\n",
    "result=re.match('Analytics', r'Analytics Vidhya is the largest')\n",
    "print(result)\n",
    "\n",
    "result2=re.match('largest', r'Analytics Vidhya is the largest community')\n",
    "print(result2)"
   ]
  },
  {
   "cell_type": "markdown",
   "metadata": {},
   "source": [
    "since output of the re.match is an object we will use group() function to get matched expression"
   ]
  },
  {
   "cell_type": "code",
   "execution_count": 10,
   "metadata": {},
   "outputs": [
    {
     "name": "stdout",
     "output_type": "stream",
     "text": [
      "Analytics\n"
     ]
    }
   ],
   "source": [
    "print(result.group())"
   ]
  },
  {
   "cell_type": "markdown",
   "metadata": {},
   "source": [
    "**2.re.search()**\n",
    "\n",
    "Matches the single occurence of a pattern in the entire string"
   ]
  },
  {
   "cell_type": "code",
   "execution_count": 12,
   "metadata": {},
   "outputs": [
    {
     "name": "stdout",
     "output_type": "stream",
     "text": [
      "founded\n"
     ]
    }
   ],
   "source": [
    "\n",
    "# search for the pattern \"founded\" in a given string\n",
    "result= re.search('founded',r'Andred NG founded Cousera.He also founded deeplearning.ai')\n",
    "print(result.group())"
   ]
  },
  {
   "cell_type": "markdown",
   "metadata": {},
   "source": [
    "**3.re.search()**\n",
    "\n",
    "it return all occurences of the pattern from the string.It is recommended to use re.findall() always,it can work like both re.search() and re.match()"
   ]
  },
  {
   "cell_type": "code",
   "execution_count": 14,
   "metadata": {},
   "outputs": [
    {
     "name": "stdout",
     "output_type": "stream",
     "text": [
      "['founded', 'founded']\n"
     ]
    }
   ],
   "source": [
    "result=re.findall('founded',r'Andred NG founded Cousera.He also founded deeplearning.ai')\n",
    "print(result)"
   ]
  },
  {
   "cell_type": "markdown",
   "metadata": {},
   "source": [
    "# Special sequences"
   ]
  },
  {
   "cell_type": "markdown",
   "metadata": {},
   "source": [
    "These are used to extract different kinds of information from a given text"
   ]
  },
  {
   "cell_type": "markdown",
   "metadata": {},
   "source": [
    "1. **\\b** returns a match where the specified pattern is at end of a word"
   ]
  },
  {
   "cell_type": "code",
   "execution_count": 15,
   "metadata": {},
   "outputs": [
    {
     "name": "stdout",
     "output_type": "stream",
     "text": [
      "['ics', 'ics']\n"
     ]
    }
   ],
   "source": [
    "str=r'Analytics Vidhya is the largest Analytics Community of India'\n",
    "#Checkif there is any word that ends with \"est\"\n",
    "x=re.findall(r\"ics\\b\",str)\n",
    "print(x)"
   ]
  },
  {
   "cell_type": "markdown",
   "metadata": {},
   "source": [
    "2.**\\d** returns a match where the string contains digits(numbers from 0-9)"
   ]
  },
  {
   "cell_type": "code",
   "execution_count": 17,
   "metadata": {},
   "outputs": [
    {
     "name": "stdout",
     "output_type": "stream",
     "text": [
      "['2', '1', '9']\n",
      "Yes,there is at least one match!\n"
     ]
    }
   ],
   "source": [
    "str=\"2 million monthly visits in jan 19.\"\n",
    "#check if the string contains any digits (number from 0-9)\n",
    "x = re.findall(\"\\d\", str)\n",
    "print(x)\n",
    "if (x):\n",
    "    print(\"Yes,there is at least one match!\")\n",
    "else:\n",
    "        print(\"No match\")"
   ]
  },
  {
   "cell_type": "markdown",
   "metadata": {},
   "source": [
    "3.**\\D** returns a match where the string does not contain any digit"
   ]
  },
  {
   "cell_type": "code",
   "execution_count": 18,
   "metadata": {},
   "outputs": [
    {
     "name": "stdout",
     "output_type": "stream",
     "text": [
      "[' ', 'm', 'i', 'l', 'l', 'i', 'o', 'n', ' ', 'm', 'o', 'n', 't', 'h', 'l', 'y', ' ', 'v', 'i', 's', 'i', 't', 's', ' ', 'i', 'n', ' ', 'j', 'a', 'n', ' ', '.']\n",
      "Yes,there is at least one match!\n"
     ]
    }
   ],
   "source": [
    "str=\"2 million monthly visits in jan 19.\"\n",
    "#check if the word character does not contain any digits (numbers from 0-9):\n",
    "x = re.findall(\"\\D\", str)\n",
    "print(x)\n",
    "if (x):\n",
    "    print(\"Yes,there is at least one match!\")\n",
    "else:\n",
    "    print(\"No match\")"
   ]
  },
  {
   "cell_type": "code",
   "execution_count": 19,
   "metadata": {},
   "outputs": [
    {
     "name": "stdout",
     "output_type": "stream",
     "text": [
      "[\" million montly visits' \"]\n",
      "Yes,there is at leat one match\n"
     ]
    }
   ],
   "source": [
    "str=\"2 million montly visits' 19\"\n",
    "#check if the word does not contain any digits(numbers from 0-9):\n",
    "x= re.findall(\"\\D+\", str)\n",
    "print(x)\n",
    "if (x):\n",
    "    print(\"Yes,there is at leat one match\")\n",
    "else:\n",
    "    print(\"No match\")"
   ]
  },
  {
   "cell_type": "markdown",
   "metadata": {},
   "source": [
    "4.**\\w** helps in extraction of alphanumeric characters only(characters from a to Z,digits from 0-9, and the underscore_character)"
   ]
  },
  {
   "cell_type": "code",
   "execution_count": 21,
   "metadata": {},
   "outputs": [
    {
     "name": "stdout",
     "output_type": "stream",
     "text": [
      "['2', 'm', 'i', 'l', 'l', 'i', 'o', 'n', 'm', 'o', 'n', 't', 'l', 'y', '_', 'V', 'i', 's', 'i', 't', 's']\n",
      "Yes, there is at least one match!\n"
     ]
    }
   ],
   "source": [
    "str=\"2 million montly_Visits!\"\n",
    "#returns a match at every word character(characters from a to Z,digits from 0-9, and the underscore_character)\n",
    "x=re.findall(\"\\w\",str)\n",
    "print(x)\n",
    "if (x):\n",
    "    print(\"Yes, there is at least one match!\")\n",
    "else:\n",
    "    print(\"No match\")"
   ]
  },
  {
   "cell_type": "code",
   "execution_count": 22,
   "metadata": {},
   "outputs": [
    {
     "name": "stdout",
     "output_type": "stream",
     "text": [
      "['2', 'million', 'montly_visits']\n",
      "Yes,there is at least one match!\n"
     ]
    }
   ],
   "source": [
    "str= \"2 million montly_visits!\"\n",
    "# returns a match at every word(characters from a to Z, digits from 0-9)\n",
    "x=re.findall(\"\\w+\",str)\n",
    "print(x)\n",
    "if(x):\n",
    "    print(\"Yes,there is at least one match!\")\n",
    "else:\n",
    "    print(\"No match\")"
   ]
  },
  {
   "cell_type": "markdown",
   "metadata": {},
   "source": [
    "5.**\\W** returns a match at every non aphanumeric character"
   ]
  },
  {
   "cell_type": "code",
   "execution_count": 27,
   "metadata": {},
   "outputs": [
    {
     "name": "stdout",
     "output_type": "stream",
     "text": [
      "[' ', ' ', ' ', '!']\n",
      "Yes, there is at least one match!\n"
     ]
    }
   ],
   "source": [
    "str= \"2 million monthly visits9!\"\n",
    "#returns a match at every NON word character (characters NOT betwwen a and Z. LIke \"!\", \"?\" white-space etc):\n",
    "x=re.findall(\"\\W\",str)\n",
    "print(x)\n",
    "if (x):\n",
    "    print(\"Yes, there is at least one match!\")\n",
    "else:\n",
    "    print(\"No match\")"
   ]
  },
  {
   "cell_type": "markdown",
   "metadata": {},
   "source": [
    "# Metacharacters\n",
    "\n",
    "Metacharacters are characters with a special meaning\n",
    "\n",
    "1.(.)matches any character(Except newline character)\n"
   ]
  },
  {
   "cell_type": "code",
   "execution_count": 31,
   "metadata": {},
   "outputs": [
    {
     "name": "stdout",
     "output_type": "stream",
     "text": [
      "['roh', 'roh']\n",
      "['roha', 'rohi']\n"
     ]
    }
   ],
   "source": [
    "str=\"rohan and rohit recently published a research paper!\"\n",
    "x=re.findall(\"ro.\", str)\n",
    "x2=re.findall(\"ro..\", str)\n",
    "\n",
    "print(x)\n",
    "print(x2)"
   ]
  },
  {
   "cell_type": "markdown",
   "metadata": {},
   "source": [
    "2.(^)starts with given pattern"
   ]
  },
  {
   "cell_type": "code",
   "execution_count": 5,
   "metadata": {},
   "outputs": [
    {
     "name": "stdout",
     "output_type": "stream",
     "text": [
      "No match\n"
     ]
    }
   ],
   "source": [
    "str=\"Data\"\n",
    "#check if the string starts with 'DATA':\n",
    "x=re.findall(\"^Science\", str)\n",
    "if (x):\n",
    "    print(\"YES, the string starts with 'Data'\")\n",
    "else:\n",
    "    print(\"No match\")\n",
    "#print(x)"
   ]
  },
  {
   "cell_type": "code",
   "execution_count": 7,
   "metadata": {},
   "outputs": [
    {
     "name": "stdout",
     "output_type": "stream",
     "text": [
      "YES, the string starts with 'Big'\n"
     ]
    }
   ],
   "source": [
    "# try with a different sring\n",
    "str=\"Big Data\"\n",
    "#check if the string starts with 'DATA':\n",
    "x=re.findall(\"^Big\", str)\n",
    "if(x):\n",
    "    print(\"YES, the string starts with 'Big'\")\n",
    "else:\n",
    "    print(\"No match\")"
   ]
  },
  {
   "cell_type": "markdown",
   "metadata": {},
   "source": [
    "3.($)ends with given pattern"
   ]
  },
  {
   "cell_type": "code",
   "execution_count": 9,
   "metadata": {},
   "outputs": [
    {
     "name": "stdout",
     "output_type": "stream",
     "text": [
      "YES, the string end with 'Science'\n"
     ]
    }
   ],
   "source": [
    "str=\"Data Science\"\n",
    "#check if the string ends with 'Science'\n",
    "x=re.findall(\"Science$\",str)\n",
    "if(x):\n",
    "    print(\"YES, the string end with 'Science'\")\n",
    "else:\n",
    "    print(\"No match\")"
   ]
  },
  {
   "cell_type": "markdown",
   "metadata": {},
   "source": [
    "4.(*)matches for zero or more occurences of the pattern to the left of it"
   ]
  },
  {
   "cell_type": "code",
   "execution_count": 10,
   "metadata": {},
   "outputs": [
    {
     "name": "stdout",
     "output_type": "stream",
     "text": [
      "['easy', 'eassy', 'eay']\n",
      "Yes,there is at least one match!\n"
     ]
    }
   ],
   "source": [
    "str=\"easy eassy eay ey\"\n",
    "#check if thestring contains \"ea\" followed by 0 or more \"s\" characters and ending with y\n",
    "\n",
    "x=re.findall(\"eas*y\",str)\n",
    "print(x)\n",
    "if (x):\n",
    "    print(\"Yes,there is at least one match!\")\n",
    "else:\n",
    "    print(\"No match\")"
   ]
  },
  {
   "cell_type": "markdown",
   "metadata": {},
   "source": [
    "5.(+) matches one or more occurences of the pattern to the left of it"
   ]
  },
  {
   "cell_type": "code",
   "execution_count": 15,
   "metadata": {},
   "outputs": [
    {
     "name": "stdout",
     "output_type": "stream",
     "text": [
      "['easy', 'eassy']\n",
      "Yes, there is at least one match!\n"
     ]
    }
   ],
   "source": [
    "str= \"easy eassy eay ey\"\n",
    "#check if the string contains \"ea\" followed by 1 or more \"s\" characters and ends with y\n",
    "x=re.findall(\"eas+y\",str)\n",
    "\n",
    "print(x)\n",
    "    \n",
    "if(x):\n",
    "        print(\"Yes, there is at least one match!\")\n",
    "else:\n",
    "        print(\"No match\")"
   ]
  },
  {
   "cell_type": "markdown",
   "metadata": {},
   "source": [
    "6.(?)matches zero or one occurence of the pattern left to it"
   ]
  },
  {
   "cell_type": "code",
   "execution_count": 17,
   "metadata": {},
   "outputs": [
    {
     "name": "stdout",
     "output_type": "stream",
     "text": [
      "['easy', 'eay']\n",
      "Yes,there is at least one match!\n"
     ]
    }
   ],
   "source": [
    "str=\"easy eassy eay ey\"\n",
    "x=re.findall(\"eas?y\", str)\n",
    "print(x)\n",
    "if(x):\n",
    "    print(\"Yes,there is at least one match!\")\n",
    "else:\n",
    "    print(\"No match\")"
   ]
  },
  {
   "cell_type": "markdown",
   "metadata": {},
   "source": [
    "7.\"|\" either or"
   ]
  },
  {
   "cell_type": "code",
   "execution_count": 18,
   "metadata": {},
   "outputs": [
    {
     "name": "stdout",
     "output_type": "stream",
     "text": [
      "['data', 'India']\n",
      "Yes, there is at least one match!\n"
     ]
    }
   ],
   "source": [
    "str=\"Analytics Vidhya is the largest data science community of India\"\n",
    "#check if the string contains either \"data\"\n",
    "x=re.findall(\"data|India\",str)\n",
    "print(x)\n",
    "if (x):\n",
    "    print(\"Yes, there is at least one match!\")\n",
    "else:\n",
    "    print(\"No match\")"
   ]
  },
  {
   "cell_type": "code",
   "execution_count": null,
   "metadata": {},
   "outputs": [],
   "source": []
  }
 ],
 "metadata": {
  "kernelspec": {
   "display_name": "Python 3",
   "language": "python",
   "name": "python3"
  },
  "language_info": {
   "codemirror_mode": {
    "name": "ipython",
    "version": 3
   },
   "file_extension": ".py",
   "mimetype": "text/x-python",
   "name": "python",
   "nbconvert_exporter": "python",
   "pygments_lexer": "ipython3",
   "version": "3.8.5"
  }
 },
 "nbformat": 4,
 "nbformat_minor": 4
}
