{
 "cells": [
  {
   "cell_type": "markdown",
   "metadata": {},
   "source": [
    "**Regular expressions help with recognizing,detecting and extracting patterns in text data**"
   ]
  },
  {
   "cell_type": "markdown",
   "metadata": {},
   "source": [
    "# Extract Information Using Regular expressions(REGEX)\n",
    "\n",
    "**r** expression is used to create a raw string.Python raw string treats backslash (\\) as a literal character."
   ]
  },
  {
   "cell_type": "code",
   "execution_count": 1,
   "metadata": {},
   "outputs": [
    {
     "name": "stdout",
     "output_type": "stream",
     "text": [
      "string: C:\\desktop\n",
      "athan\n"
     ]
    }
   ],
   "source": [
    "# normal string vs raw string\n",
    "path=\"C:\\desktop\\nathan\"\n",
    "print(\"string:\", path)"
   ]
  },
  {
   "cell_type": "code",
   "execution_count": 2,
   "metadata": {},
   "outputs": [
    {
     "name": "stdout",
     "output_type": "stream",
     "text": [
      "raw string: C:\\desktop\\nathan\n"
     ]
    }
   ],
   "source": [
    "path=r\"C:\\desktop\\nathan\" #raw string\n",
    "print(\"raw string:\", path)"
   ]
  },
  {
   "cell_type": "markdown",
   "metadata": {},
   "source": [
    "Python  has a built in module to work with regular expressions called re.Some of the commonly used methods from \n",
    "\n",
    "**re** module are:\n",
    "\n",
    "     1.re.match()\n",
    "     \n",
    "     2.re.search()\n",
    "     \n",
    "     3.re.findall()"
   ]
  },
  {
   "cell_type": "markdown",
   "metadata": {},
   "source": [
    "**1.re.match()**\n",
    "\n",
    "The re.match functions returns a match object on success and none on failure\n"
   ]
  },
  {
   "cell_type": "code",
   "execution_count": 4,
   "metadata": {},
   "outputs": [
    {
     "name": "stdout",
     "output_type": "stream",
     "text": [
      "<re.Match object; span=(0, 9), match='Analytics'>\n",
      "None\n"
     ]
    }
   ],
   "source": [
    "import re\n",
    "# match a word at the beginning of a string\n",
    "\n",
    "result=re.match('Analytics', r'Analytics Vidhya is the largest')\n",
    "print(result)\n",
    "\n",
    "result2=re.match('largest', r'Analytics Vidhya is the largest community')\n",
    "print(result2)"
   ]
  },
  {
   "cell_type": "markdown",
   "metadata": {},
   "source": [
    "since output of the re.match is an object we will use group() function to get matched expression"
   ]
  },
  {
   "cell_type": "code",
   "execution_count": 10,
   "metadata": {},
   "outputs": [
    {
     "name": "stdout",
     "output_type": "stream",
     "text": [
      "Analytics\n"
     ]
    }
   ],
   "source": [
    "print(result.group())"
   ]
  },
  {
   "cell_type": "markdown",
   "metadata": {},
   "source": [
    "**2.re.search()**\n",
    "\n",
    "Matches the single occurence of a pattern in the entire string"
   ]
  },
  {
   "cell_type": "code",
   "execution_count": 12,
   "metadata": {},
   "outputs": [
    {
     "name": "stdout",
     "output_type": "stream",
     "text": [
      "founded\n"
     ]
    }
   ],
   "source": [
    "\n",
    "# search for the pattern \"founded\" in a given string\n",
    "result= re.search('founded',r'Andred NG founded Cousera.He also founded deeplearning.ai')\n",
    "print(result.group())"
   ]
  },
  {
   "cell_type": "markdown",
   "metadata": {},
   "source": [
    "**3.re.search()**\n",
    "\n",
    "it return all occurences of the pattern from the string.It is recommended to use re.findall() always,it can work like both re.search() and re.match()"
   ]
  },
  {
   "cell_type": "code",
   "execution_count": 14,
   "metadata": {},
   "outputs": [
    {
     "name": "stdout",
     "output_type": "stream",
     "text": [
      "['founded', 'founded']\n"
     ]
    }
   ],
   "source": [
    "result=re.findall('founded',r'Andred NG founded Cousera.He also founded deeplearning.ai')\n",
    "print(result)"
   ]
  },
  {
   "cell_type": "markdown",
   "metadata": {},
   "source": [
    "# Special sequences"
   ]
  },
  {
   "cell_type": "markdown",
   "metadata": {},
   "source": [
    "These are used to extract different kinds of information from a given text"
   ]
  },
  {
   "cell_type": "markdown",
   "metadata": {},
   "source": [
    "1. **\\b** returns a match where the specified pattern is at end of a word"
   ]
  },
  {
   "cell_type": "code",
   "execution_count": 15,
   "metadata": {},
   "outputs": [
    {
     "name": "stdout",
     "output_type": "stream",
     "text": [
      "['ics', 'ics']\n"
     ]
    }
   ],
   "source": [
    "str=r'Analytics Vidhya is the largest Analytics Community of India'\n",
    "#Checkif there is any word that ends with \"est\"\n",
    "x=re.findall(r\"ics\\b\",str)\n",
    "print(x)"
   ]
  },
  {
   "cell_type": "markdown",
   "metadata": {},
   "source": [
    "2.**\\d** returns a match where the string contains digits(numbers from 0-9)"
   ]
  },
  {
   "cell_type": "code",
   "execution_count": 17,
   "metadata": {},
   "outputs": [
    {
     "name": "stdout",
     "output_type": "stream",
     "text": [
      "['2', '1', '9']\n",
      "Yes,there is at least one match!\n"
     ]
    }
   ],
   "source": [
    "str=\"2 million monthly visits in jan 19.\"\n",
    "#check if the string contains any digits (number from 0-9)\n",
    "x = re.findall(\"\\d\", str)\n",
    "print(x)\n",
    "if (x):\n",
    "    print(\"Yes,there is at least one match!\")\n",
    "else:\n",
    "        print(\"No match\")"
   ]
  },
  {
   "cell_type": "markdown",
   "metadata": {},
   "source": [
    "3.**\\D** returns a match where the string does not contain any digit"
   ]
  },
  {
   "cell_type": "code",
   "execution_count": 18,
   "metadata": {},
   "outputs": [
    {
     "name": "stdout",
     "output_type": "stream",
     "text": [
      "[' ', 'm', 'i', 'l', 'l', 'i', 'o', 'n', ' ', 'm', 'o', 'n', 't', 'h', 'l', 'y', ' ', 'v', 'i', 's', 'i', 't', 's', ' ', 'i', 'n', ' ', 'j', 'a', 'n', ' ', '.']\n",
      "Yes,there is at least one match!\n"
     ]
    }
   ],
   "source": [
    "str=\"2 million monthly visits in jan 19.\"\n",
    "#check if the word character does not contain any digits (numbers from 0-9):\n",
    "x = re.findall(\"\\D\", str)\n",
    "print(x)\n",
    "if (x):\n",
    "    print(\"Yes,there is at least one match!\")\n",
    "else:\n",
    "    print(\"No match\")"
   ]
  },
  {
   "cell_type": "code",
   "execution_count": 19,
   "metadata": {},
   "outputs": [
    {
     "name": "stdout",
     "output_type": "stream",
     "text": [
      "[\" million montly visits' \"]\n",
      "Yes,there is at leat one match\n"
     ]
    }
   ],
   "source": [
    "str=\"2 million montly visits' 19\"\n",
    "#check if the word does not contain any digits(numbers from 0-9):\n",
    "x= re.findall(\"\\D+\", str)\n",
    "print(x)\n",
    "if (x):\n",
    "    print(\"Yes,there is at leat one match\")\n",
    "else:\n",
    "    print(\"No match\")"
   ]
  },
  {
   "cell_type": "markdown",
   "metadata": {},
   "source": [
    "4.**\\w** helps in extraction of alphanumeric characters only(characters from a to Z,digits from 0-9, and the underscore_character)"
   ]
  },
  {
   "cell_type": "code",
   "execution_count": 22,
   "metadata": {},
   "outputs": [
    {
     "name": "stdout",
     "output_type": "stream",
     "text": [
      "['2', 'm', 'i', 'l', 'l', 'i', 'o', 'n', 'm', 'o', 'n', 't', 'l', 'y', '_', 'V', 'i', 's', 'i', 't', 's']\n",
      "Yes, there is at least one match!\n"
     ]
    }
   ],
   "source": [
    "str=\"2 million montly_Visits!\"\n",
    "#returns a match at every word character(characters from a to Z,digits from 0-9, and the underscore_character)\n",
    "x=re.findall(\"\\w\",str)\n",
    "print(x)\n",
    "if (x):\n",
    "    print(\"Yes, there is at least one match!\")\n",
    "else:\n",
    "    print(\"No match\")"
   ]
  },
  {
   "cell_type": "code",
   "execution_count": 24,
   "metadata": {},
   "outputs": [
    {
     "name": "stdout",
     "output_type": "stream",
     "text": [
      "['2', 'million', 'montly_visits']\n",
      "Yes,there is at least one match!\n"
     ]
    }
   ],
   "source": [
    "str= \"2 million montly_visits!\"\n",
    "# returns a match at every word(characters from a to Z, digits from 0-9)\n",
    "x=re.findall(\"\\w+\",str)\n",
    "print(x)\n",
    "if(x):\n",
    "    print(\"Yes,there is at least one match!\")\n",
    "else:\n",
    "    print(\"No match\")"
   ]
  },
  {
   "cell_type": "markdown",
   "metadata": {},
   "source": [
    "5.**\\W** returns a match at every non aphanumeric character"
   ]
  },
  {
   "cell_type": "code",
   "execution_count": 21,
   "metadata": {},
   "outputs": [
    {
     "name": "stdout",
     "output_type": "stream",
     "text": [
      "[' ', '\\\\', ' ', '!']\n",
      "Yes, there is at least one match!\n"
     ]
    }
   ],
   "source": [
    "str= \"2 million monthly visits9!\"\n",
    "#returns a match at every NON word character (characters NOT betwwen a and Z. LIke \"!\", \"?\" white-space etc):\n",
    "x=re.findall(\"\\W\",str)\n",
    "print(x)\n",
    "if (x):\n",
    "    print(\"Yes, there is at least one match!\")\n",
    "else:\n",
    "    print(\"No match\")"
   ]
  },
  {
   "cell_type": "markdown",
   "metadata": {},
   "source": [
    "# Metacharacters\n",
    "\n",
    "Metacharacters are characters with a special meaning\n",
    "\n",
    "1.(.)matches any character(Except newline character)\n"
   ]
  },
  {
   "cell_type": "code",
   "execution_count": 31,
   "metadata": {},
   "outputs": [
    {
     "name": "stdout",
     "output_type": "stream",
     "text": [
      "['roh', 'roh']\n",
      "['roha', 'rohi']\n"
     ]
    }
   ],
   "source": [
    "str=\"rohan and rohit recently published a research paper!\"\n",
    "x=re.findall(\"ro.\", str)\n",
    "x2=re.findall(\"ro..\", str)\n",
    "\n",
    "print(x)\n",
    "print(x2)"
   ]
  },
  {
   "cell_type": "markdown",
   "metadata": {},
   "source": [
    "2.(^)starts with given pattern"
   ]
  },
  {
   "cell_type": "code",
   "execution_count": 5,
   "metadata": {},
   "outputs": [
    {
     "name": "stdout",
     "output_type": "stream",
     "text": [
      "No match\n"
     ]
    }
   ],
   "source": [
    "str=\"Data\"\n",
    "#check if the string starts with 'DATA':\n",
    "x=re.findall(\"^Science\", str)\n",
    "if (x):\n",
    "    print(\"YES, the string starts with 'Data'\")\n",
    "else:\n",
    "    print(\"No match\")\n",
    "#print(x)"
   ]
  },
  {
   "cell_type": "code",
   "execution_count": 7,
   "metadata": {},
   "outputs": [
    {
     "name": "stdout",
     "output_type": "stream",
     "text": [
      "YES, the string starts with 'Big'\n"
     ]
    }
   ],
   "source": [
    "# try with a different sring\n",
    "str=\"Big Data\"\n",
    "#check if the string starts with 'DATA':\n",
    "x=re.findall(\"^Big\", str)\n",
    "if(x):\n",
    "    print(\"YES, the string starts with 'Big'\")\n",
    "else:\n",
    "    print(\"No match\")"
   ]
  },
  {
   "cell_type": "markdown",
   "metadata": {},
   "source": [
    "3.($)ends with given pattern"
   ]
  },
  {
   "cell_type": "code",
   "execution_count": 9,
   "metadata": {},
   "outputs": [
    {
     "name": "stdout",
     "output_type": "stream",
     "text": [
      "YES, the string end with 'Science'\n"
     ]
    }
   ],
   "source": [
    "str=\"Data Science\"\n",
    "#check if the string ends with 'Science'\n",
    "x=re.findall(\"Science$\",str)\n",
    "if(x):\n",
    "    print(\"YES, the string end with 'Science'\")\n",
    "else:\n",
    "    print(\"No match\")"
   ]
  },
  {
   "cell_type": "markdown",
   "metadata": {},
   "source": [
    "4.(*)matches for zero or more occurences of the pattern to the left of it"
   ]
  },
  {
   "cell_type": "code",
   "execution_count": 10,
   "metadata": {},
   "outputs": [
    {
     "name": "stdout",
     "output_type": "stream",
     "text": [
      "['easy', 'eassy', 'eay']\n",
      "Yes,there is at least one match!\n"
     ]
    }
   ],
   "source": [
    "str=\"easy eassy eay ey\"\n",
    "#check if thestring contains \"ea\" followed by 0 or more \"s\" characters and ending with y\n",
    "\n",
    "x=re.findall(\"eas*y\",str)\n",
    "print(x)\n",
    "if (x):\n",
    "    print(\"Yes,there is at least one match!\")\n",
    "else:\n",
    "    print(\"No match\")"
   ]
  },
  {
   "cell_type": "markdown",
   "metadata": {},
   "source": [
    "5.(+) matches one or more occurences of the pattern to the left of it"
   ]
  },
  {
   "cell_type": "code",
   "execution_count": 15,
   "metadata": {},
   "outputs": [
    {
     "name": "stdout",
     "output_type": "stream",
     "text": [
      "['easy', 'eassy']\n",
      "Yes, there is at least one match!\n"
     ]
    }
   ],
   "source": [
    "str= \"easy eassy eay ey\"\n",
    "#check if the string contains \"ea\" followed by 1 or more \"s\" characters and ends with y\n",
    "x=re.findall(\"eas+y\",str)\n",
    "\n",
    "print(x)\n",
    "    \n",
    "if(x):\n",
    "        print(\"Yes, there is at least one match!\")\n",
    "else:\n",
    "        print(\"No match\")"
   ]
  },
  {
   "cell_type": "markdown",
   "metadata": {},
   "source": [
    "6.(?)matches zero or one occurence of the pattern left to it"
   ]
  },
  {
   "cell_type": "code",
   "execution_count": 17,
   "metadata": {},
   "outputs": [
    {
     "name": "stdout",
     "output_type": "stream",
     "text": [
      "['easy', 'eay']\n",
      "Yes,there is at least one match!\n"
     ]
    }
   ],
   "source": [
    "str=\"easy eassy eay ey\"\n",
    "x=re.findall(\"eas?y\", str)\n",
    "print(x)\n",
    "if(x):\n",
    "    print(\"Yes,there is at least one match!\")\n",
    "else:\n",
    "    print(\"No match\")"
   ]
  },
  {
   "cell_type": "markdown",
   "metadata": {},
   "source": [
    "7.\"|\" either or"
   ]
  },
  {
   "cell_type": "code",
   "execution_count": 18,
   "metadata": {},
   "outputs": [
    {
     "name": "stdout",
     "output_type": "stream",
     "text": [
      "['data', 'India']\n",
      "Yes, there is at least one match!\n"
     ]
    }
   ],
   "source": [
    "str=\"Analytics Vidhya is the largest data science community of India\"\n",
    "#check if the string contains either \"data\"\n",
    "x=re.findall(\"data|India\",str)\n",
    "print(x)\n",
    "if (x):\n",
    "    print(\"Yes, there is at least one match!\")\n",
    "else:\n",
    "    print(\"No match\")"
   ]
  },
  {
   "cell_type": "markdown",
   "metadata": {},
   "source": [
    "# Sets"
   ]
  },
  {
   "cell_type": "markdown",
   "metadata": {},
   "source": [
    "A set is a bunch of characters inside a pair of square brackets[]."
   ]
  },
  {
   "cell_type": "code",
   "execution_count": 19,
   "metadata": {},
   "outputs": [
    {
     "name": "stdout",
     "output_type": "stream",
     "text": [
      "['y', 'd', 'h', 'y', 'h', 'd', 'y', 'd']\n",
      "Yes,there is at least one match!\n"
     ]
    }
   ],
   "source": [
    "str = \"Analytics Vidhya is the largest data science community of India\"\n",
    "\n",
    "#Check for the characters y, d, or h, in the above string\n",
    "x = re.findall(\"[ydh]\", str)\n",
    "print(x)\n",
    "if (x):\n",
    "    print(\"Yes,there is at least one match!\")\n",
    "else:\n",
    "    print(\"No Match\")"
   ]
  },
  {
   "cell_type": "code",
   "execution_count": 20,
   "metadata": {},
   "outputs": [
    {
     "name": "stdout",
     "output_type": "stream",
     "text": [
      "['a', 'c', 'd', 'a', 'e', 'a', 'g', 'e', 'd', 'a', 'a', 'c', 'e', 'c', 'e', 'c', 'f', 'd', 'a']\n",
      "Yes,there is at least one match!\n"
     ]
    }
   ],
   "source": [
    "str = \"Analytics Vidhya is the largest data science community of India\"\n",
    "\n",
    "#Check for the characters y, d, or h, in the above string\n",
    "x = re.findall(\"[a-g]\", str)\n",
    "print(x)\n",
    "if (x):\n",
    "    print(\"Yes,there is at least one match!\")\n",
    "else:\n",
    "    print(\"No Match\")"
   ]
  },
  {
   "cell_type": "markdown",
   "metadata": {},
   "source": [
    "lets solve a problem"
   ]
  },
  {
   "cell_type": "code",
   "execution_count": 27,
   "metadata": {},
   "outputs": [
    {
     "name": "stdout",
     "output_type": "stream",
     "text": [
      "['687']\n",
      "Yes,there is at least one match!\n"
     ]
    }
   ],
   "source": [
    "str= \"Mars' average distance from the sun is roughly 230 million km and its orbital period is 687 (Earth) days.\"\n",
    "# extract the numbers starting with 0 to 4 from the above string\n",
    "x=re.findall(r\"[5-9]\\d+\", str)\n",
    "\n",
    "print(x)\n",
    "if (x):\n",
    "    print(\"Yes,there is at least one match!\")\n",
    "else:\n",
    "    print(\"No match\")"
   ]
  },
  {
   "cell_type": "markdown",
   "metadata": {},
   "source": [
    "**[^]** Check whether string has other characters mentioned after ^"
   ]
  },
  {
   "cell_type": "code",
   "execution_count": 28,
   "metadata": {},
   "outputs": [
    {
     "name": "stdout",
     "output_type": "stream",
     "text": [
      "['A', 'n', 'a', 'l', 't', 'i', 'c', 's', ' ', 'V', 'i', 'a', ' ', 'i', 's', ' ', 't', 'e', ' ', 'l', 'a', 'r', 'g', 'e', 's', 't', ' ', 'a', 't', 'a', ' ', 's', 'c', 'i', 'e', 'n', 'c', 'e', ' ', 'c', 'o', 'm', 'm', 'u', 'n', 'i', 't', ' ', 'o', 'f', ' ', 'I', 'n', 'i', 'a']\n",
      "Yes, there is at least one match!\n"
     ]
    }
   ],
   "source": [
    "str=\"Analytics Vidhya is the largest data science community of India\"\n",
    "#check if every word character has characters other than y,d, or h\n",
    "x = re.findall(\"[^ydh]\", str)\n",
    "print(x)\n",
    "if (x):\n",
    "    print(\"Yes, there is at least one match!\")\n",
    "else:\n",
    "    print(\"No match\")"
   ]
  },
  {
   "cell_type": "markdown",
   "metadata": {},
   "source": [
    "3.**[a-zA-Z0-9]** :Check whether string has terms starting with characters other than alphanumeric."
   ]
  },
  {
   "cell_type": "code",
   "execution_count": 33,
   "metadata": {},
   "outputs": [
    {
     "name": "stdout",
     "output_type": "stream",
     "text": [
      "['@AV', '#AV']\n"
     ]
    }
   ],
   "source": [
    "str= \"@AV Largest Data science community #AV!!\"\n",
    "# extract words that start with a special character\n",
    "x=re.findall(\"[^a-zA-Z0-9 ]\\w+\",str)\n",
    "print(x)"
   ]
  },
  {
   "cell_type": "markdown",
   "metadata": {},
   "source": [
    "# Solve Complex Queries\n",
    "lets us try solving some complex queries using regex"
   ]
  },
  {
   "cell_type": "markdown",
   "metadata": {},
   "source": [
    "# Extracting Email ID's"
   ]
  },
  {
   "cell_type": "code",
   "execution_count": 35,
   "metadata": {},
   "outputs": [
    {
     "name": "stdout",
     "output_type": "stream",
     "text": [
      "['rohan.1997@gmail.com', 'smith_david34@yahoo.com', 'priya@yahoo.com']\n"
     ]
    }
   ],
   "source": [
    "str= 'Send a mail to rohan.1997@gmail.com, smith_david34@yahoo.com and priya@yahoo.com about the meeting @2PM'\n",
    "\n",
    "# \\w matches any alpha numeric character\n",
    "# + for repeats a character one or more time\n",
    "x = re.findall('[a-zA-Z0-9._-]+@\\w+\\.com', str)\n",
    "\n",
    "# printing of list\n",
    "print(x)"
   ]
  },
  {
   "cell_type": "markdown",
   "metadata": {},
   "source": [
    "# Extracting Dates"
   ]
  },
  {
   "cell_type": "code",
   "execution_count": 37,
   "metadata": {},
   "outputs": [
    {
     "name": "stdout",
     "output_type": "stream",
     "text": [
      "['2012-07-27', '2012/08/12']\n"
     ]
    }
   ],
   "source": [
    "text = \"London Olympic 2012 was held from 2012-07-27 to 2012/08/12\"\n",
    "# '\\d{4}' repeats '\\d' 4 times\n",
    "match = re.findall('\\d{4}.\\d{2}.\\d{2}', text) # means occurence of any character\n",
    "print(match)"
   ]
  },
  {
   "cell_type": "code",
   "execution_count": 38,
   "metadata": {},
   "outputs": [
    {
     "name": "stdout",
     "output_type": "stream",
     "text": [
      "['27 september 2012', '12 August 2012']\n"
     ]
    }
   ],
   "source": [
    "text=\"LOndon Olympic 2012 was held from 27 september 2012 to 12 August 2012\"\n",
    "#'\\w{3,10}' repeats '\\w' 3 to times\n",
    "match = re.findall('\\d{2}.\\w{3,10}.\\d{4}', text)\n",
    "print(match)"
   ]
  },
  {
   "cell_type": "code",
   "execution_count": null,
   "metadata": {},
   "outputs": [],
   "source": [
    "# extract dates with varying lengths\n",
    "\n",
    "text=\"LOndon Olympic 2012 was held from 27 september 2012 to 12 August 2012\"\n",
    "#'\\w{3,10}' repeats '\\'"
   ]
  },
  {
   "cell_type": "markdown",
   "metadata": {},
   "source": [
    "# Extracting Title from Names-Titanic Dataset"
   ]
  },
  {
   "cell_type": "code",
   "execution_count": 39,
   "metadata": {},
   "outputs": [
    {
     "ename": "AttributeError",
     "evalue": "module 'pandas' has no attribute 'read'",
     "output_type": "error",
     "traceback": [
      "\u001b[0;31m---------------------------------------------------------------------------\u001b[0m",
      "\u001b[0;31mAttributeError\u001b[0m                            Traceback (most recent call last)",
      "\u001b[0;32m<ipython-input-39-7614a760c90d>\u001b[0m in \u001b[0;36m<module>\u001b[0;34m\u001b[0m\n\u001b[1;32m      2\u001b[0m \u001b[0;34m\u001b[0m\u001b[0m\n\u001b[1;32m      3\u001b[0m \u001b[0;31m# load dataset\u001b[0m\u001b[0;34m\u001b[0m\u001b[0;34m\u001b[0m\u001b[0;34m\u001b[0m\u001b[0m\n\u001b[0;32m----> 4\u001b[0;31m \u001b[0mdata\u001b[0m\u001b[0;34m=\u001b[0m\u001b[0mpd\u001b[0m\u001b[0;34m.\u001b[0m\u001b[0mread\u001b[0m\u001b[0;34m(\u001b[0m\u001b[0;34m\"titanic.csv\"\u001b[0m\u001b[0;34m)\u001b[0m\u001b[0;34m\u001b[0m\u001b[0;34m\u001b[0m\u001b[0m\n\u001b[0m",
      "\u001b[0;32m~/PycharmProjects/pythonProject/venv/lib64/python3.8/site-packages/pandas/__init__.py\u001b[0m in \u001b[0;36m__getattr__\u001b[0;34m(name)\u001b[0m\n\u001b[1;32m    256\u001b[0m             \u001b[0;32mreturn\u001b[0m \u001b[0m_SparseArray\u001b[0m\u001b[0;34m\u001b[0m\u001b[0;34m\u001b[0m\u001b[0m\n\u001b[1;32m    257\u001b[0m \u001b[0;34m\u001b[0m\u001b[0m\n\u001b[0;32m--> 258\u001b[0;31m         \u001b[0;32mraise\u001b[0m \u001b[0mAttributeError\u001b[0m\u001b[0;34m(\u001b[0m\u001b[0;34mf\"module 'pandas' has no attribute '{name}'\"\u001b[0m\u001b[0;34m)\u001b[0m\u001b[0;34m\u001b[0m\u001b[0;34m\u001b[0m\u001b[0m\n\u001b[0m\u001b[1;32m    259\u001b[0m \u001b[0;34m\u001b[0m\u001b[0m\n\u001b[1;32m    260\u001b[0m \u001b[0;34m\u001b[0m\u001b[0m\n",
      "\u001b[0;31mAttributeError\u001b[0m: module 'pandas' has no attribute 'read'"
     ]
    }
   ],
   "source": [
    "import pandas as pd\n",
    "\n",
    "# load dataset\n",
    "data=pd.read(\"titanic.csv\")"
   ]
  },
  {
   "cell_type": "code",
   "execution_count": null,
   "metadata": {},
   "outputs": [],
   "source": []
  }
 ],
 "metadata": {
  "kernelspec": {
   "display_name": "Python 3",
   "language": "python",
   "name": "python3"
  },
  "language_info": {
   "codemirror_mode": {
    "name": "ipython",
    "version": 3
   },
   "file_extension": ".py",
   "mimetype": "text/x-python",
   "name": "python",
   "nbconvert_exporter": "python",
   "pygments_lexer": "ipython3",
   "version": "3.8.5"
  }
 },
 "nbformat": 4,
 "nbformat_minor": 4
}
