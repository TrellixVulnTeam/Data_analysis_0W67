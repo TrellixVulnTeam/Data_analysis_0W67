{
 "cells": [
  {
   "cell_type": "markdown",
   "metadata": {},
   "source": [
    "# Objective\n",
    "This analysis involves checking parcel with no id number and kra pin.The approach for analysis will be using a key called not approved under column owner identification type and also checking null in the column."
   ]
  },
  {
   "cell_type": "markdown",
   "metadata": {},
   "source": [
    "# LIBRARIES TO IMPORT\n",
    "* 1.Pandas\n",
    "* 2.Pyscopg2\n",
    "* 3.Regex"
   ]
  },
  {
   "cell_type": "code",
   "execution_count": 2,
   "metadata": {},
   "outputs": [],
   "source": [
    "# import pandas\n",
    "import pandas as pd\n",
    "# import pyscopg2\n",
    "import psycopg2 as pg\n",
    "# import regex\n",
    "import re\n",
    "import json"
   ]
  },
  {
   "cell_type": "markdown",
   "metadata": {
    "pycharm": {
     "name": "#%% md\n"
    }
   },
   "source": [
    "# STEP 1:DATABASE CONNECTION"
   ]
  },
  {
   "cell_type": "code",
   "execution_count": 10,
   "metadata": {
    "pycharm": {
     "name": "#%%\n"
    }
   },
   "outputs": [],
   "source": [
    "myconnection = pg.connect(\" host= '192.168.214.252' dbname=molpp_v2_30_10 user=wainaina password='1234'\")"
   ]
  },
  {
   "cell_type": "markdown",
   "metadata": {},
   "source": [
    "# STEP 2:IMPORT DATA"
   ]
  },
  {
   "cell_type": "code",
   "execution_count": 15,
   "metadata": {
    "pycharm": {
     "name": "#%%\n"
    }
   },
   "outputs": [],
   "source": [
    "def data_count(block_list):\n",
    "    dic={}\n",
    "    for i in block_list:\n",
    "        query=(f'''\n",
    "    SELECT count(*) AS \"count\"\n",
    "    FROM \"main\".\"land_data_cleaning_datacleaningfile\"\n",
    "    LEFT JOIN \"land_data_cleaning_department\".\"parcel_information\" \"Parcel Information\" ON \"main\".\"land_data_cleaning_datacleaningfile\".\"id\" = \"Parcel Information\".\"data_cleaning_file_id\" LEFT JOIN \"land_data_cleaning_department\".\"parcel_owners\" \"Parcel Owners\" ON \"Parcel Information\".\"id\" = \"Parcel Owners\".\"land_parcel_id\"\n",
    "    WHERE ((lower(\"main\".\"land_data_cleaning_datacleaningfile\".\"file_number\") like  '%{i}%' )\n",
    "       AND \"Parcel Owners\".\"owner_identification_type\" = 'NOT_AVAILABLE');''')\n",
    "\n",
    "        data_count=pd.read_sql(query,myconnection)\n",
    "        # print with no indexes\n",
    "    #     data_count_no=data_count.to_string(index=False)\n",
    "        dic[i]=str(data_count.values[0][0])\n",
    "       \n",
    "    return dic"
   ]
  },
  {
   "cell_type": "code",
   "execution_count": 13,
   "metadata": {
    "pycharm": {
     "name": "#%%\n"
    }
   },
   "outputs": [],
   "source": [
    "block_list = ['nairobi/block 98','nairobi/block 82','nairobi/block 32','nairobi/block 96']\n",
    "data_count(block_list)\n",
    "\n",
    "with open(\"count.json\",\"w\") as outfile:\n",
    "          json.dump(data_count(block_list),outfile)\n"
   ]
  },
  {
   "cell_type": "markdown",
   "metadata": {},
   "source": [
    "# Creating object from Daframe "
   ]
  },
  {
   "cell_type": "code",
   "execution_count": 14,
   "metadata": {
    "pycharm": {
     "name": "#%%\n"
    }
   },
   "outputs": [
    {
     "ename": "AttributeError",
     "evalue": "'function' object has no attribute 'to_dict'",
     "output_type": "error",
     "traceback": [
      "\u001B[0;31m---------------------------------------------------------------------------\u001B[0m",
      "\u001B[0;31mAttributeError\u001B[0m                            Traceback (most recent call last)",
      "\u001B[0;32m<ipython-input-14-277b3f216645>\u001B[0m in \u001B[0;36m<module>\u001B[0;34m\u001B[0m\n\u001B[1;32m      1\u001B[0m \u001B[0;31m# converting to dictionary\u001B[0m\u001B[0;34m\u001B[0m\u001B[0;34m\u001B[0m\u001B[0;34m\u001B[0m\u001B[0m\n\u001B[0;32m----> 2\u001B[0;31m \u001B[0mdataframe\u001B[0m\u001B[0;34m=\u001B[0m\u001B[0mdata_count\u001B[0m\u001B[0;34m.\u001B[0m\u001B[0mto_dict\u001B[0m\u001B[0;34m(\u001B[0m\u001B[0;34m)\u001B[0m\u001B[0;34m;\u001B[0m\u001B[0;34m\u001B[0m\u001B[0;34m\u001B[0m\u001B[0m\n\u001B[0m\u001B[1;32m      3\u001B[0m \u001B[0mprint\u001B[0m\u001B[0;34m(\u001B[0m\u001B[0mdataframe\u001B[0m\u001B[0;34m)\u001B[0m\u001B[0;34m\u001B[0m\u001B[0;34m\u001B[0m\u001B[0m\n",
      "\u001B[0;31mAttributeError\u001B[0m: 'function' object has no attribute 'to_dict'"
     ]
    }
   ],
   "source": [
    "# converting to dictionary\n",
    "dataframe=data_count.to_dict();\n",
    "print(dataframe)"
   ]
  },
  {
   "cell_type": "markdown",
   "metadata": {
    "pycharm": {
     "name": "#%% md\n"
    }
   },
   "source": [
    "# STEP 2:IMPORT DATA"
   ]
  },
  {
   "cell_type": "code",
   "execution_count": 7,
   "metadata": {
    "pycharm": {
     "name": "#%%\n"
    }
   },
   "outputs": [],
   "source": [
    "def data_count(block_list):\n",
    "    dic={}\n",
    "    for i in block_list:\n",
    "        if isinstance(i, (int)):\n",
    "            block_number=f\"NAIROBI/BLOCK {i}\"\n",
    "        else:\n",
    "            block_number = i\n",
    "        query=(f'''\n",
    "    SELECT count(*) AS \"count\"\n",
    "    FROM \"main\".\"land_data_cleaning_datacleaningfile\"\n",
    "    LEFT JOIN \"land_data_cleaning_department\".\"parcel_information\" \"Parcel Information\" ON \"main\".\"land_data_cleaning_datacleaningfile\".\"id\" = \"Parcel Information\".\"data_cleaning_file_id\" LEFT JOIN \"land_data_cleaning_department\".\"parcel_owners\" \"Parcel Owners\" ON \"Parcel Information\".\"id\" = \"Parcel Owners\".\"land_parcel_id\"\n",
    "    WHERE ((lower(\"main\".\"land_data_cleaning_datacleaningfile\".\"file_number\") like  '%{block_number}%' )\n",
    "       AND \"Parcel Owners\".\"owner_identification_type\" = 'NOT_AVAILABLE');''')\n",
    "\n",
    "        data_count=pd.read_sql(query,myconnection)\n",
    "        # print with no indexes\n",
    "    #     data_count_no=data_count.to_string(index=False)\n",
    "        dic[i]=int(data_count.values[0][0])\n",
    "       \n",
    "    return dic"
   ]
  },
  {
   "cell_type": "code",
   "execution_count": 8,
   "metadata": {
    "pycharm": {
     "name": "#%%\n"
    }
   },
   "outputs": [],
   "source": [
    "block_list = ['nairobi/block 98','nairobi/block 82','nairobi/block 32','nairobi/block 96']\n",
    "data_count(block_list)\n",
    "\n",
    "with open(\"count.json\",\"w\") as outfile:\n",
    "          json.dump(data_count(block_list),outfile)\n"
   ]
  },
  {
   "cell_type": "markdown",
   "metadata": {},
   "source": [
    "# Creating object from Daframe "
   ]
  },
  {
   "cell_type": "code",
   "execution_count": null,
   "metadata": {
    "pycharm": {
     "name": "#%%\n"
    }
   },
   "outputs": [],
   "source": [
    "# converting to dictionary\n",
    "dataframe=data_count.to_dict();\n",
    "print(dataframe)"
   ]
  },
  {
   "cell_type": "code",
   "execution_count": null,
   "metadata": {
    "pycharm": {
     "name": "#%%\n"
    }
   },
   "outputs": [],
   "source": [
    "# Read block list\n",
    "query=(\"SELECT * from analytics.block_number\")\n",
    "block=pd.read_sql(query,myconnection)\n",
    "parcelist=block['Block Number'].to_list()\n",
    "data_count(parcelist)\n"
   ]
  },
  {
   "cell_type": "code",
   "execution_count": 123,
   "metadata": {},
   "outputs": [],
   "source": [
    "# Read block list\n",
    "query=(\"SELECT * from analytics.block_number\")\n",
    "block=pd.read_sql(query,myconnection)\n",
    "parcelist=block['Block Number'].to_list()\n",
    "data_count(parcelist)\n"
   ]
  },
  {
   "cell_type": "code",
   "execution_count": 102,
   "metadata": {},
   "outputs": [],
   "source": [
    "block_list = ['nairobi/block 98','nairobi/block 82','nairobi/block 32','nairobi/block 96']\n",
    "data_count(block_list)\n",
    "\n",
    "with open(\"count.json\",\"w\") as outfile:\n",
    "          json.dump(data_count(block_list),outfile)\n"
   ]
  },
  {
   "cell_type": "markdown",
   "metadata": {},
   "source": [
    "# Creating object from Daframe "
   ]
  },
  {
   "cell_type": "code",
   "execution_count": 53,
   "metadata": {},
   "outputs": [
    {
     "name": "stdout",
     "output_type": "stream",
     "text": [
      "{'count': {0: 1966}}\n"
     ]
    }
   ],
   "source": [
    "# converting to dictionary\n",
    "dataframe=data_count.to_dict();\n",
    "print(dataframe)"
   ]
  },
  {
   "cell_type": "code",
   "execution_count": 17,
   "metadata": {},
   "outputs": [
    {
     "data": {
      "text/plain": [
       "{5: '32246',\n",
       " 7: '35934',\n",
       " 34: '3235',\n",
       " 42: '2739',\n",
       " 14: '7245',\n",
       " 15: '5799',\n",
       " 35: '3279',\n",
       " 51: '3137',\n",
       " 22: '3009',\n",
       " 23: '3160',\n",
       " 26: '4020',\n",
       " 37: '3069',\n",
       " 27: '2953',\n",
       " 31: '2715',\n",
       " 32: '3507',\n",
       " 38: '2966',\n",
       " 55: '2729',\n",
       " 60: '2720',\n",
       " 61: '3197',\n",
       " 62: '3121',\n",
       " 63: '3752',\n",
       " 72: '4137',\n",
       " 73: '3006',\n",
       " 74: '3009',\n",
       " 76: '3370',\n",
       " 77: '3080',\n",
       " 78: '3269',\n",
       " 79: '3140',\n",
       " 82: '4759',\n",
       " 83: '2811',\n",
       " 85: '2808',\n",
       " 87: '2933',\n",
       " 90: '2783',\n",
       " 91: '3193',\n",
       " 92: '2967',\n",
       " 93: '3962',\n",
       " 94: '2786',\n",
       " 96: '3382',\n",
       " 98: '2783',\n",
       " 99: '2728',\n",
       " 101: '830',\n",
       " 102: '866',\n",
       " 103: '799',\n",
       " 104: '763',\n",
       " 106: '737',\n",
       " 108: '576',\n",
       " 111: '647',\n",
       " 112: '960',\n",
       " 113: '571',\n",
       " 114: '538',\n",
       " 115: '574',\n",
       " 116: '844',\n",
       " 117: '680',\n",
       " 118: '823',\n",
       " 119: '829',\n",
       " 120: '593',\n",
       " 121: '509',\n",
       " 122: '615',\n",
       " 123: '722',\n",
       " 124: '610',\n",
       " 125: '752',\n",
       " 126: '887',\n",
       " 127: '719',\n",
       " 133: '621',\n",
       " 134: '952',\n",
       " 135: '813',\n",
       " 138: '571',\n",
       " 139: '574',\n",
       " 140: '1798',\n",
       " 141: '566',\n",
       " 144: '533',\n",
       " 145: '500',\n",
       " 146: '627',\n",
       " 147: '593',\n",
       " 150: '408',\n",
       " 151: '704',\n",
       " 152: '516',\n",
       " 153: '523',\n",
       " 154: '621',\n",
       " 155: '445',\n",
       " 158: '569',\n",
       " 162: '422',\n",
       " 164: '339',\n",
       " 166: '325',\n",
       " 170: '293',\n",
       " 171: '380'}"
      ]
     },
     "execution_count": 17,
     "metadata": {},
     "output_type": "execute_result"
    }
   ],
   "source": [
    "# Read block list\n",
    "query=(\"SELECT * from analytics.block_number\")\n",
    "block=pd.read_sql(query,myconnection)\n",
    "parcelist=block['Block Number'].to_list()\n",
    "data_count(parcelist)\n"
   ]
  },
  {
   "cell_type": "code",
   "execution_count": null,
   "outputs": [],
   "source": [],
   "metadata": {
    "collapsed": false,
    "pycharm": {
     "name": "#%%\n"
    }
   }
  },
  {
   "cell_type": "code",
   "execution_count": null,
   "metadata": {},
   "outputs": [],
   "source": []
  }
 ],
 "metadata": {
  "kernelspec": {
   "display_name": "Python 3",
   "language": "python",
   "name": "python3"
  },
  "language_info": {
   "codemirror_mode": {
    "name": "ipython",
    "version": 3
   },
   "file_extension": ".py",
   "mimetype": "text/x-python",
   "name": "python",
   "nbconvert_exporter": "python",
   "pygments_lexer": "ipython3",
   "version": "3.8.5"
  }
 },
 "nbformat": 4,
 "nbformat_minor": 4
}