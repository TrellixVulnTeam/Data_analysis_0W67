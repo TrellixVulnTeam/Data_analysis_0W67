{
 "cells": [
  {
   "cell_type": "markdown",
   "metadata": {},
   "source": [
    "# Objective\n",
    "Analysing the below:\n",
    "\n",
    " * a. What is in routing and in basemap\n",
    " \n",
    " * b.What is in routing and not in basemap\n",
    " \n",
    " * c.What is in basemap and in routing\n",
    " \n",
    " * d.What is in basemap and not in routing\n"
   ]
  },
  {
   "cell_type": "markdown",
   "metadata": {},
   "source": [
    "# import libraries"
   ]
  },
  {
   "cell_type": "code",
   "execution_count": 4,
   "metadata": {},
   "outputs": [],
   "source": [
    "#import pandas\n",
    "import pandas as pd\n",
    "# import psycopg2\n",
    "import psycopg2 as pg"
   ]
  },
  {
   "cell_type": "markdown",
   "metadata": {},
   "source": [
    "# Database connection"
   ]
  },
  {
   "cell_type": "code",
   "execution_count": 7,
   "metadata": {
    "pycharm": {
     "is_executing": true
    }
   },
   "outputs": [],
   "source": [
    "myconnection = pg.connect(\" host= '192.168.214.252' dbname=molpp_v2_09_11 user=wainaina password='1234'\")"
   ]
  },
  {
   "cell_type": "markdown",
   "metadata": {},
   "source": [
    "# Function for creating the object"
   ]
  },
  {
   "cell_type": "code",
   "execution_count": 9,
   "metadata": {
    "pycharm": {
     "is_executing": true
    }
   },
   "outputs": [
    {
     "ename": "DatabaseError",
     "evalue": "Execution failed on sql: SELECT \"basemap\".\"nairobi_block_112_basemap\".\"id\" AS \"id\", \"basemap\".\"nairobi_block_112_basemap\".\"plot_num2\" AS \"plot_num2\", \"Routing 112 V1\".\"survey_parcel_no\" AS \"survey_parcel_no\", \"Routing 112 V1\".\"survey_status\" AS \"survey_status\"\nFROM \"basemap\".\"nairobi_block_112_basemap\" FULL JOIN \"routing_schema\".\"routing_112_v1\" \"Routing 112 V1\" ON \"basemap\".\"nairobi_block_112_basemap\".\"plot_num2\" = \"Routing 112 V1\".\"survey_parcel_no\"\ncould not receive data from server: Connection timed out\n\nunable to rollback",
     "output_type": "error",
     "traceback": [
      "\u001B[0;31m---------------------------------------------------------------------------\u001B[0m",
      "\u001B[0;31mDatabaseError\u001B[0m                             Traceback (most recent call last)",
      "\u001B[0;32m~/PycharmProjects/pythonProject/venv/lib64/python3.8/site-packages/pandas/io/sql.py\u001B[0m in \u001B[0;36mexecute\u001B[0;34m(self, *args, **kwargs)\u001B[0m\n\u001B[1;32m   1680\u001B[0m         \u001B[0;32mtry\u001B[0m\u001B[0;34m:\u001B[0m\u001B[0;34m\u001B[0m\u001B[0;34m\u001B[0m\u001B[0m\n\u001B[0;32m-> 1681\u001B[0;31m             \u001B[0mcur\u001B[0m\u001B[0;34m.\u001B[0m\u001B[0mexecute\u001B[0m\u001B[0;34m(\u001B[0m\u001B[0;34m*\u001B[0m\u001B[0margs\u001B[0m\u001B[0;34m,\u001B[0m \u001B[0;34m**\u001B[0m\u001B[0mkwargs\u001B[0m\u001B[0;34m)\u001B[0m\u001B[0;34m\u001B[0m\u001B[0;34m\u001B[0m\u001B[0m\n\u001B[0m\u001B[1;32m   1682\u001B[0m             \u001B[0;32mreturn\u001B[0m \u001B[0mcur\u001B[0m\u001B[0;34m\u001B[0m\u001B[0;34m\u001B[0m\u001B[0m\n",
      "\u001B[0;31mDatabaseError\u001B[0m: could not receive data from server: Connection timed out\n",
      "\nDuring handling of the above exception, another exception occurred:\n",
      "\u001B[0;31mOperationalError\u001B[0m                          Traceback (most recent call last)",
      "\u001B[0;32m~/PycharmProjects/pythonProject/venv/lib64/python3.8/site-packages/pandas/io/sql.py\u001B[0m in \u001B[0;36mexecute\u001B[0;34m(self, *args, **kwargs)\u001B[0m\n\u001B[1;32m   1684\u001B[0m             \u001B[0;32mtry\u001B[0m\u001B[0;34m:\u001B[0m\u001B[0;34m\u001B[0m\u001B[0;34m\u001B[0m\u001B[0m\n\u001B[0;32m-> 1685\u001B[0;31m                 \u001B[0mself\u001B[0m\u001B[0;34m.\u001B[0m\u001B[0mcon\u001B[0m\u001B[0;34m.\u001B[0m\u001B[0mrollback\u001B[0m\u001B[0;34m(\u001B[0m\u001B[0;34m)\u001B[0m\u001B[0;34m\u001B[0m\u001B[0;34m\u001B[0m\u001B[0m\n\u001B[0m\u001B[1;32m   1686\u001B[0m             \u001B[0;32mexcept\u001B[0m \u001B[0mException\u001B[0m \u001B[0;32mas\u001B[0m \u001B[0minner_exc\u001B[0m\u001B[0;34m:\u001B[0m  \u001B[0;31m# pragma: no cover\u001B[0m\u001B[0;34m\u001B[0m\u001B[0;34m\u001B[0m\u001B[0m\n",
      "\u001B[0;31mOperationalError\u001B[0m: server closed the connection unexpectedly\n\tThis probably means the server terminated abnormally\n\tbefore or while processing the request.\n",
      "\nThe above exception was the direct cause of the following exception:\n",
      "\u001B[0;31mDatabaseError\u001B[0m                             Traceback (most recent call last)",
      "\u001B[0;32m<ipython-input-9-8063861fafdb>\u001B[0m in \u001B[0;36m<module>\u001B[0;34m\u001B[0m\n\u001B[1;32m      5\u001B[0m \u001B[0mrouting_list\u001B[0m\u001B[0;34m=\u001B[0m\u001B[0;34m[\u001B[0m\u001B[0;34m]\u001B[0m\u001B[0;34m\u001B[0m\u001B[0;34m\u001B[0m\u001B[0m\n\u001B[1;32m      6\u001B[0m \u001B[0;31m# read data\u001B[0m\u001B[0;34m\u001B[0m\u001B[0;34m\u001B[0m\u001B[0;34m\u001B[0m\u001B[0m\n\u001B[0;32m----> 7\u001B[0;31m \u001B[0mdata\u001B[0m\u001B[0;34m=\u001B[0m\u001B[0mpd\u001B[0m\u001B[0;34m.\u001B[0m\u001B[0mread_sql\u001B[0m\u001B[0;34m(\u001B[0m\u001B[0mquery\u001B[0m\u001B[0;34m,\u001B[0m\u001B[0mmyconnection\u001B[0m\u001B[0;34m)\u001B[0m\u001B[0;34m\u001B[0m\u001B[0;34m\u001B[0m\u001B[0m\n\u001B[0m\u001B[1;32m      8\u001B[0m \u001B[0;31m# data frame for survey parcel no in routing\u001B[0m\u001B[0;34m\u001B[0m\u001B[0;34m\u001B[0m\u001B[0;34m\u001B[0m\u001B[0m\n\u001B[1;32m      9\u001B[0m \u001B[0mroutingparcels\u001B[0m\u001B[0;34m=\u001B[0m\u001B[0mdata\u001B[0m\u001B[0;34m[\u001B[0m\u001B[0;34m'survey_parcel_no'\u001B[0m\u001B[0;34m]\u001B[0m\u001B[0;34m\u001B[0m\u001B[0;34m\u001B[0m\u001B[0m\n",
      "\u001B[0;32m~/PycharmProjects/pythonProject/venv/lib64/python3.8/site-packages/pandas/io/sql.py\u001B[0m in \u001B[0;36mread_sql\u001B[0;34m(sql, con, index_col, coerce_float, params, parse_dates, columns, chunksize)\u001B[0m\n\u001B[1;32m    481\u001B[0m \u001B[0;34m\u001B[0m\u001B[0m\n\u001B[1;32m    482\u001B[0m     \u001B[0;32mif\u001B[0m \u001B[0misinstance\u001B[0m\u001B[0;34m(\u001B[0m\u001B[0mpandas_sql\u001B[0m\u001B[0;34m,\u001B[0m \u001B[0mSQLiteDatabase\u001B[0m\u001B[0;34m)\u001B[0m\u001B[0;34m:\u001B[0m\u001B[0;34m\u001B[0m\u001B[0;34m\u001B[0m\u001B[0m\n\u001B[0;32m--> 483\u001B[0;31m         return pandas_sql.read_query(\n\u001B[0m\u001B[1;32m    484\u001B[0m             \u001B[0msql\u001B[0m\u001B[0;34m,\u001B[0m\u001B[0;34m\u001B[0m\u001B[0;34m\u001B[0m\u001B[0m\n\u001B[1;32m    485\u001B[0m             \u001B[0mindex_col\u001B[0m\u001B[0;34m=\u001B[0m\u001B[0mindex_col\u001B[0m\u001B[0;34m,\u001B[0m\u001B[0;34m\u001B[0m\u001B[0;34m\u001B[0m\u001B[0m\n",
      "\u001B[0;32m~/PycharmProjects/pythonProject/venv/lib64/python3.8/site-packages/pandas/io/sql.py\u001B[0m in \u001B[0;36mread_query\u001B[0;34m(self, sql, index_col, coerce_float, params, parse_dates, chunksize)\u001B[0m\n\u001B[1;32m   1725\u001B[0m \u001B[0;34m\u001B[0m\u001B[0m\n\u001B[1;32m   1726\u001B[0m         \u001B[0margs\u001B[0m \u001B[0;34m=\u001B[0m \u001B[0m_convert_params\u001B[0m\u001B[0;34m(\u001B[0m\u001B[0msql\u001B[0m\u001B[0;34m,\u001B[0m \u001B[0mparams\u001B[0m\u001B[0;34m)\u001B[0m\u001B[0;34m\u001B[0m\u001B[0;34m\u001B[0m\u001B[0m\n\u001B[0;32m-> 1727\u001B[0;31m         \u001B[0mcursor\u001B[0m \u001B[0;34m=\u001B[0m \u001B[0mself\u001B[0m\u001B[0;34m.\u001B[0m\u001B[0mexecute\u001B[0m\u001B[0;34m(\u001B[0m\u001B[0;34m*\u001B[0m\u001B[0margs\u001B[0m\u001B[0;34m)\u001B[0m\u001B[0;34m\u001B[0m\u001B[0;34m\u001B[0m\u001B[0m\n\u001B[0m\u001B[1;32m   1728\u001B[0m         \u001B[0mcolumns\u001B[0m \u001B[0;34m=\u001B[0m \u001B[0;34m[\u001B[0m\u001B[0mcol_desc\u001B[0m\u001B[0;34m[\u001B[0m\u001B[0;36m0\u001B[0m\u001B[0;34m]\u001B[0m \u001B[0;32mfor\u001B[0m \u001B[0mcol_desc\u001B[0m \u001B[0;32min\u001B[0m \u001B[0mcursor\u001B[0m\u001B[0;34m.\u001B[0m\u001B[0mdescription\u001B[0m\u001B[0;34m]\u001B[0m\u001B[0;34m\u001B[0m\u001B[0;34m\u001B[0m\u001B[0m\n\u001B[1;32m   1729\u001B[0m \u001B[0;34m\u001B[0m\u001B[0m\n",
      "\u001B[0;32m~/PycharmProjects/pythonProject/venv/lib64/python3.8/site-packages/pandas/io/sql.py\u001B[0m in \u001B[0;36mexecute\u001B[0;34m(self, *args, **kwargs)\u001B[0m\n\u001B[1;32m   1688\u001B[0m                     \u001B[0;34mf\"Execution failed on sql: {args[0]}\\n{exc}\\nunable to rollback\"\u001B[0m\u001B[0;34m\u001B[0m\u001B[0;34m\u001B[0m\u001B[0m\n\u001B[1;32m   1689\u001B[0m                 )\n\u001B[0;32m-> 1690\u001B[0;31m                 \u001B[0;32mraise\u001B[0m \u001B[0mex\u001B[0m \u001B[0;32mfrom\u001B[0m \u001B[0minner_exc\u001B[0m\u001B[0;34m\u001B[0m\u001B[0;34m\u001B[0m\u001B[0m\n\u001B[0m\u001B[1;32m   1691\u001B[0m \u001B[0;34m\u001B[0m\u001B[0m\n\u001B[1;32m   1692\u001B[0m             \u001B[0mex\u001B[0m \u001B[0;34m=\u001B[0m \u001B[0mDatabaseError\u001B[0m\u001B[0;34m(\u001B[0m\u001B[0;34mf\"Execution failed on sql '{args[0]}': {exc}\"\u001B[0m\u001B[0;34m)\u001B[0m\u001B[0;34m\u001B[0m\u001B[0;34m\u001B[0m\u001B[0m\n",
      "\u001B[0;31mDatabaseError\u001B[0m: Execution failed on sql: SELECT \"basemap\".\"nairobi_block_112_basemap\".\"id\" AS \"id\", \"basemap\".\"nairobi_block_112_basemap\".\"plot_num2\" AS \"plot_num2\", \"Routing 112 V1\".\"survey_parcel_no\" AS \"survey_parcel_no\", \"Routing 112 V1\".\"survey_status\" AS \"survey_status\"\nFROM \"basemap\".\"nairobi_block_112_basemap\" FULL JOIN \"routing_schema\".\"routing_112_v1\" \"Routing 112 V1\" ON \"basemap\".\"nairobi_block_112_basemap\".\"plot_num2\" = \"Routing 112 V1\".\"survey_parcel_no\"\ncould not receive data from server: Connection timed out\n\nunable to rollback"
     ]
    }
   ],
   "source": [
    "# query for data\n",
    "query=query=('''SELECT \"basemap\".\"nairobi_block_112_basemap\".\"id\" AS \"id\", \"basemap\".\"nairobi_block_112_basemap\".\"plot_num2\" AS \"plot_num2\", \"Routing 112 V1\".\"survey_parcel_no\" AS \"survey_parcel_no\", \"Routing 112 V1\".\"survey_status\" AS \"survey_status\"\n",
    "FROM \"basemap\".\"nairobi_block_112_basemap\" FULL JOIN \"routing_schema\".\"routing_112_v1\" \"Routing 112 V1\" ON \"basemap\".\"nairobi_block_112_basemap\".\"plot_num2\" = \"Routing 112 V1\".\"survey_parcel_no\"''')\n",
    "# routing list\n",
    "routing_list=[]\n",
    "# read data\n",
    "data=pd.read_sql(query,myconnection)\n",
    "# data frame for survey parcel no in routing\n",
    "routingparcels=data['survey_parcel_no']\n",
    "# list for routing survey parcels\n",
    "routingparcelslist=routingparcels.to_list()\n",
    "#print(routingparcelslist)\n",
    "# survey parcels data frame\n",
    "surveyparcels=data['plot_num2']\n",
    "# lists for what is in survey basemap\n",
    "surveyparcelslist=surveyparcels.to_list()\n",
    "print(surveyparcels)\n",
    "# print (data)\n",
    "\n",
    "# list comparisons"
   ]
  },
  {
   "cell_type": "code",
   "execution_count": null,
   "metadata": {
    "pycharm": {
     "is_executing": true
    }
   },
   "outputs": [],
   "source": []
  }
 ],
 "metadata": {
  "kernelspec": {
   "display_name": "Python 3",
   "language": "python",
   "name": "python3"
  },
  "language_info": {
   "codemirror_mode": {
    "name": "ipython",
    "version": 3
   },
   "file_extension": ".py",
   "mimetype": "text/x-python",
   "name": "python",
   "nbconvert_exporter": "python",
   "pygments_lexer": "ipython3",
   "version": "3.8.5"
  }
 },
 "nbformat": 4,
 "nbformat_minor": 4
}